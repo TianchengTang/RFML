{
 "cells": [
  {
   "cell_type": "code",
   "execution_count": null,
   "metadata": {
    "collapsed": true
   },
   "outputs": [],
   "source": [
    "from mongoengine import *\n",
    "import datetime"
   ]
  },
  {
   "cell_type": "code",
   "execution_count": null,
   "metadata": {
    "scrolled": true
   },
   "outputs": [],
   "source": [
    "connect('AI')"
   ]
  },
  {
   "cell_type": "markdown",
   "metadata": {},
   "source": [
    "#### User class"
   ]
  },
  {
   "cell_type": "code",
   "execution_count": null,
   "metadata": {
    "collapsed": true
   },
   "outputs": [],
   "source": [
    "class User(Document):\n",
    "    email = StringField(required=True, primary_key=True)\n",
    "    first_name = StringField(max_length=50)\n",
    "    last_name = StringField(max_length=50)\n",
    "    create_date = DateTimeField(default=datetime.datetime.now)\n",
    "    age = IntField(default=30)"
   ]
  },
  {
   "cell_type": "markdown",
   "metadata": {},
   "source": [
    "#### define documents"
   ]
  },
  {
   "cell_type": "code",
   "execution_count": null,
   "metadata": {
    "collapsed": true
   },
   "outputs": [],
   "source": [
    "class Comment(EmbeddedDocument):\n",
    "    content = StringField()\n",
    "    name = StringField(max_length=120)"
   ]
  },
  {
   "cell_type": "code",
   "execution_count": null,
   "metadata": {
    "collapsed": true
   },
   "outputs": [],
   "source": [
    "class Post(Document):\n",
    "    meta = {'allow_inheritance': True}    # This is critical for inheritance to work\n",
    "    \n",
    "    title = StringField(max_length=120, required=True)\n",
    "    author = ReferenceField(User)\n",
    "    tags = ListField(StringField(max_length=30))\n",
    "    comments = ListField(EmbeddedDocumentField(Comment))"
   ]
  },
  {
   "cell_type": "code",
   "execution_count": null,
   "metadata": {
    "collapsed": true
   },
   "outputs": [],
   "source": [
    "class TextPost(Post):\n",
    "    content = StringField()\n",
    "\n",
    "class ImagePost(Post):\n",
    "    image_path = StringField()\n",
    "\n",
    "class LinkPost(Post):\n",
    "    link_url = StringField()"
   ]
  },
  {
   "cell_type": "markdown",
   "metadata": {},
   "source": [
    "#### create users"
   ]
  },
  {
   "cell_type": "code",
   "execution_count": null,
   "metadata": {
    "collapsed": true
   },
   "outputs": [],
   "source": [
    "ross = User(email='ross@example.com', first_name='Ross', last_name='Lawley', age=30).save()\n",
    "john = User(email='john@example.com', first_name='John', last_name='Sam', age=25).save()\n",
    "tom = User(email='tom@example.com', first_name='tom', last_name='johnny', age=100).save()"
   ]
  },
  {
   "cell_type": "markdown",
   "metadata": {},
   "source": [
    "### John changes his name"
   ]
  },
  {
   "cell_type": "code",
   "execution_count": null,
   "metadata": {},
   "outputs": [],
   "source": [
    "john.name = 'johnny'\n",
    "john.save()"
   ]
  },
  {
   "cell_type": "markdown",
   "metadata": {},
   "source": [
    "John make comments"
   ]
  },
  {
   "cell_type": "code",
   "execution_count": null,
   "metadata": {
    "collapsed": true
   },
   "outputs": [],
   "source": [
    "comment1 = Comment(content='this is a great post', name='john')\n",
    "comment2 = Comment(content='Mongo DB is a great database', name='john')"
   ]
  },
  {
   "cell_type": "markdown",
   "metadata": {
    "collapsed": true
   },
   "source": [
    "create posts"
   ]
  },
  {
   "cell_type": "code",
   "execution_count": null,
   "metadata": {
    "scrolled": true
   },
   "outputs": [],
   "source": [
    "post1 = TextPost(title='Fun with MongoEngine', author=john)\n",
    "post1.content = 'Took a look at MongoEngine today, looks pretty cool.'\n",
    "post1.tags = ['mongodb', 'mongoengine']\n",
    "# Add comment to post\n",
    "post1.comments.append(comment1)\n",
    "post1.save()\n",
    "\n",
    "post2 = LinkPost(title='MongoEngine Documentation', author=ross)\n",
    "post2.link_url = 'http://docs.mongoengine.com/'\n",
    "# Add comment to post\n",
    "post2.comments.append(comment2)\n",
    "post2.tags = ['mongoengine']\n",
    "post2.save()"
   ]
  },
  {
   "cell_type": "markdown",
   "metadata": {},
   "source": [
    "Access documents to print all comments"
   ]
  },
  {
   "cell_type": "code",
   "execution_count": null,
   "metadata": {
    "scrolled": false
   },
   "outputs": [],
   "source": [
    "for post in Post.objects:\n",
    "    for comment in post.comments:\n",
    "        print(\"{} made comment with following {}\".format(comment.name, comment.content))"
   ]
  },
  {
   "cell_type": "markdown",
   "metadata": {
    "collapsed": true
   },
   "source": [
    "### Dynamic Documents"
   ]
  },
  {
   "cell_type": "code",
   "execution_count": null,
   "metadata": {
    "collapsed": true
   },
   "outputs": [],
   "source": [
    "class TestData(DynamicDocument):\n",
    "    test_case = StringField(max_length=200, required=True)"
   ]
  },
  {
   "cell_type": "code",
   "execution_count": null,
   "metadata": {
    "collapsed": true
   },
   "outputs": [],
   "source": [
    "data = {'setup':'eagle',\n",
    "       'throughput': 123,\n",
    "       'vals': [1, 2, 3],\n",
    "       }"
   ]
  },
  {
   "cell_type": "code",
   "execution_count": null,
   "metadata": {},
   "outputs": [],
   "source": [
    "test1 = TestData(test_case='RF test data 1')\n",
    "for field, val in data.items():\n",
    "    test1[field] = val\n",
    "test1.save()"
   ]
  },
  {
   "cell_type": "markdown",
   "metadata": {},
   "source": [
    "### print first name of users with age <= 30, join field name and operator with double underscore"
   ]
  },
  {
   "cell_type": "code",
   "execution_count": null,
   "metadata": {},
   "outputs": [],
   "source": [
    "for user in User.objects(age__lte=30):\n",
    "    print(user.first_name)"
   ]
  },
  {
   "cell_type": "code",
   "execution_count": null,
   "metadata": {},
   "outputs": [],
   "source": [
    "import string\n",
    "def generate_names(name_len=3):\n",
    "    firstnames = []\n",
    "    def combos(path):\n",
    "        nonlocal firstnames\n",
    "        if len(path) == name_len:\n",
    "            firstnames.append(''.join(path))\n",
    "            return\n",
    "        for ii in string.ascii_lowercase:\n",
    "            combos(path+[ii])\n",
    "    combos([])\n",
    "    return firstnames"
   ]
  },
  {
   "cell_type": "code",
   "execution_count": null,
   "metadata": {},
   "outputs": [],
   "source": [
    "names=generate_names()"
   ]
  },
  {
   "cell_type": "code",
   "execution_count": null,
   "metadata": {},
   "outputs": [],
   "source": [
    "len(names)==26*26*26"
   ]
  },
  {
   "cell_type": "code",
   "execution_count": null,
   "metadata": {
    "collapsed": true
   },
   "outputs": [],
   "source": [
    "def generate_fake_users(name_len=3):\n",
    "    firstnames = generate_names(name_len=name_len)\n",
    "    lastnames = (name[::-1] for name in firstnames)\n",
    "    emails = (firstname+'_'+lastname+\"@gmail.com\" \n",
    "              for firstname, lastname in zip(firstnames, lastnames))\n",
    "    return (User(email=email, first_name=firstname, last_name=lastname)\n",
    "           for email, firstname, lastname in zip(emails, firstnames, lastnames))"
   ]
  },
  {
   "cell_type": "code",
   "execution_count": null,
   "metadata": {
    "collapsed": true
   },
   "outputs": [],
   "source": [
    "fake_users = generate_fake_users(4)"
   ]
  },
  {
   "cell_type": "code",
   "execution_count": null,
   "metadata": {},
   "outputs": [],
   "source": [
    "for user in fake_users:\n",
    "    user.save()"
   ]
  },
  {
   "cell_type": "code",
   "execution_count": null,
   "metadata": {
    "scrolled": true
   },
   "outputs": [],
   "source": [
    "t0 = datetime.datetime.now()\n",
    "res = []\n",
    "for user in User.objects(email='aaa_bbb@gmail.com'):\n",
    "    res.append(user.lastname)\n",
    "dt = datetime.datetime.now() - t0"
   ]
  },
  {
   "cell_type": "markdown",
   "metadata": {},
   "source": [
    "### Atomic updates\n",
    "http://docs.mongoengine.org/guide/querying.html#atomic-updates\n",
    "\n",
    "\n",
    "Atomicity: https://en.wikipedia.org/wiki/Atomicity_(database_systems)"
   ]
  },
  {
   "cell_type": "code",
   "execution_count": null,
   "metadata": {
    "collapsed": true
   },
   "outputs": [],
   "source": [
    "class data_structure(Document):\n",
    "    counter = IntField(default=0)\n",
    "    data = ListField(IntField)"
   ]
  },
  {
   "cell_type": "markdown",
   "metadata": {},
   "source": [
    "#### create a document"
   ]
  },
  {
   "cell_type": "code",
   "execution_count": null,
   "metadata": {},
   "outputs": [],
   "source": [
    "ds = data_structure()\n",
    "ds.save()"
   ]
  },
  {
   "cell_type": "markdown",
   "metadata": {},
   "source": [
    "#### atomic updates "
   ]
  },
  {
   "cell_type": "code",
   "execution_count": null,
   "metadata": {
    "scrolled": true
   },
   "outputs": [],
   "source": [
    "# update_one: Perform an atomic update on the fields of the first document matched by the query.\n",
    "data_structure.objects(id=ds.id).update_one(inc__counter=10)"
   ]
  },
  {
   "cell_type": "code",
   "execution_count": null,
   "metadata": {},
   "outputs": [],
   "source": [
    "data_structure.objects(id=ds.id).update_one(push__data=666)"
   ]
  },
  {
   "cell_type": "code",
   "execution_count": null,
   "metadata": {},
   "outputs": [],
   "source": [
    "data_structure.objects(id=ds.id).update_one(upsert=True, **{'push_all__data':[100, 200, 300]})"
   ]
  },
  {
   "cell_type": "code",
   "execution_count": null,
   "metadata": {
    "collapsed": true
   },
   "outputs": [],
   "source": []
  }
 ],
 "metadata": {
  "kernelspec": {
   "display_name": "Python 3",
   "language": "python",
   "name": "python3"
  },
  "language_info": {
   "codemirror_mode": {
    "name": "ipython",
    "version": 3
   },
   "file_extension": ".py",
   "mimetype": "text/x-python",
   "name": "python",
   "nbconvert_exporter": "python",
   "pygments_lexer": "ipython3",
   "version": "3.6.1"
  }
 },
 "nbformat": 4,
 "nbformat_minor": 2
}
