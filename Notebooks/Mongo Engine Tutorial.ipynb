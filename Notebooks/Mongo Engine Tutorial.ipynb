{
 "cells": [
  {
   "cell_type": "code",
   "execution_count": 1,
   "metadata": {
    "collapsed": true
   },
   "outputs": [],
   "source": [
    "from mongoengine import *"
   ]
  },
  {
   "cell_type": "code",
   "execution_count": 2,
   "metadata": {},
   "outputs": [
    {
     "data": {
      "text/plain": [
       "MongoClient(host=['localhost:27017'], document_class=dict, tz_aware=False, connect=True, read_preference=Primary())"
      ]
     },
     "execution_count": 2,
     "metadata": {},
     "output_type": "execute_result"
    }
   ],
   "source": [
    "connect('AI')"
   ]
  },
  {
   "cell_type": "markdown",
   "metadata": {},
   "source": [
    "#### User class"
   ]
  },
  {
   "cell_type": "code",
   "execution_count": null,
   "metadata": {
    "collapsed": true
   },
   "outputs": [],
   "source": [
    "class User(Document):\n",
    "    email = StringField(required=True)\n",
    "    first_name = StringField(max_length=50)\n",
    "    last_name = StringField(max_length=50)"
   ]
  },
  {
   "cell_type": "markdown",
   "metadata": {},
   "source": [
    "#### define documents"
   ]
  },
  {
   "cell_type": "code",
   "execution_count": null,
   "metadata": {
    "collapsed": true
   },
   "outputs": [],
   "source": [
    "class Comment(EmbeddedDocument):\n",
    "    content = StringField()\n",
    "    name = StringField(max_length=120)"
   ]
  },
  {
   "cell_type": "code",
   "execution_count": null,
   "metadata": {
    "collapsed": true
   },
   "outputs": [],
   "source": [
    "class Post(Document):\n",
    "    meta = {'allow_inheritance': True}    # This is critical for inheritance to work\n",
    "    \n",
    "    title = StringField(max_length=120, required=True)\n",
    "    author = ReferenceField(User)\n",
    "    tags = ListField(StringField(max_length=30))\n",
    "    comments = ListField(EmbeddedDocumentField(Comment))"
   ]
  },
  {
   "cell_type": "code",
   "execution_count": null,
   "metadata": {
    "collapsed": true
   },
   "outputs": [],
   "source": [
    "class TextPost(Post):\n",
    "    content = StringField()\n",
    "\n",
    "class ImagePost(Post):\n",
    "    image_path = StringField()\n",
    "\n",
    "class LinkPost(Post):\n",
    "    link_url = StringField()"
   ]
  },
  {
   "cell_type": "markdown",
   "metadata": {},
   "source": [
    "create users"
   ]
  },
  {
   "cell_type": "code",
   "execution_count": null,
   "metadata": {
    "collapsed": true
   },
   "outputs": [],
   "source": [
    "ross = User(email='ross@example.com', first_name='Ross', last_name='Lawley').save()\n",
    "john = User(email='john@example.com', first_name='John', last_name='Sam').save()\n",
    "tom = User(email='tom@example.com', first_name='tom', last_name='johnny').save()"
   ]
  },
  {
   "cell_type": "markdown",
   "metadata": {},
   "source": [
    "John make comments"
   ]
  },
  {
   "cell_type": "code",
   "execution_count": null,
   "metadata": {
    "collapsed": true
   },
   "outputs": [],
   "source": [
    "comment1 = Comment(content='this is a great post', name='john')\n",
    "comment2 = Comment(content='Mongo DB is a great database', name='john')"
   ]
  },
  {
   "cell_type": "markdown",
   "metadata": {
    "collapsed": true
   },
   "source": [
    "create posts"
   ]
  },
  {
   "cell_type": "code",
   "execution_count": null,
   "metadata": {
    "scrolled": true
   },
   "outputs": [],
   "source": [
    "post1 = TextPost(title='Fun with MongoEngine', author=john)\n",
    "post1.content = 'Took a look at MongoEngine today, looks pretty cool.'\n",
    "post1.tags = ['mongodb', 'mongoengine']\n",
    "# Add comment to post\n",
    "post1.comments.append(comment1)\n",
    "post1.save()\n",
    "\n",
    "post2 = LinkPost(title='MongoEngine Documentation', author=ross)\n",
    "post2.link_url = 'http://docs.mongoengine.com/'\n",
    "# Add comment to post\n",
    "post2.comments.append(comment2)\n",
    "post2.tags = ['mongoengine']\n",
    "post2.save()"
   ]
  },
  {
   "cell_type": "markdown",
   "metadata": {},
   "source": [
    "Access documents to print all comments"
   ]
  },
  {
   "cell_type": "code",
   "execution_count": null,
   "metadata": {
    "scrolled": false
   },
   "outputs": [],
   "source": [
    "for post in Post.objects:\n",
    "    for comment in post.comments:\n",
    "        print(\"{} made comment with following {}\".format(comment.name, comment.content))"
   ]
  },
  {
   "cell_type": "markdown",
   "metadata": {
    "collapsed": true
   },
   "source": [
    "### Dynamic Documents"
   ]
  },
  {
   "cell_type": "code",
   "execution_count": 3,
   "metadata": {
    "collapsed": true
   },
   "outputs": [],
   "source": [
    "class TestData(DynamicDocument):\n",
    "    test_case = StringField(max_length=200, required=True)"
   ]
  },
  {
   "cell_type": "code",
   "execution_count": 4,
   "metadata": {
    "collapsed": true
   },
   "outputs": [],
   "source": [
    "data = {'setup':'eagle',\n",
    "       'throughput': 123,\n",
    "       'vals': [1, 2, 3],\n",
    "       }"
   ]
  },
  {
   "cell_type": "code",
   "execution_count": 18,
   "metadata": {},
   "outputs": [
    {
     "data": {
      "text/plain": [
       "<TestData: TestData object>"
      ]
     },
     "execution_count": 18,
     "metadata": {},
     "output_type": "execute_result"
    }
   ],
   "source": [
    "test1 = TestData(test_case='RF test data 1')\n",
    "for field, val in data.items():\n",
    "    test1[field] = val\n",
    "test1.save()"
   ]
  },
  {
   "cell_type": "code",
   "execution_count": null,
   "metadata": {
    "collapsed": true
   },
   "outputs": [],
   "source": []
  }
 ],
 "metadata": {
  "kernelspec": {
   "display_name": "Python 3",
   "language": "python",
   "name": "python3"
  },
  "language_info": {
   "codemirror_mode": {
    "name": "ipython",
    "version": 3
   },
   "file_extension": ".py",
   "mimetype": "text/x-python",
   "name": "python",
   "nbconvert_exporter": "python",
   "pygments_lexer": "ipython3",
   "version": "3.6.1"
  }
 },
 "nbformat": 4,
 "nbformat_minor": 2
}
