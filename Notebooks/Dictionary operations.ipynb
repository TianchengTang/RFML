{
 "cells": [
  {
   "cell_type": "code",
   "execution_count": 1,
   "metadata": {
    "collapsed": true
   },
   "outputs": [],
   "source": [
    "from mongoengine import *\n",
    "import pymongo"
   ]
  },
  {
   "cell_type": "code",
   "execution_count": null,
   "metadata": {
    "collapsed": true
   },
   "outputs": [],
   "source": [
    "def get_db():\n",
    "    #connect to mongodb remotely\n",
    "    db_connect = pymongo.MongoClient('10.63.100.195', 27017)\n",
    "    db_connect['TestMan001'].authenticate('developer', 'Dev1234')\n",
    "    db = db_connect['TestMan001']\n",
    "    return db"
   ]
  },
  {
   "cell_type": "code",
   "execution_count": 7,
   "metadata": {
    "collapsed": true,
    "scrolled": true
   },
   "outputs": [],
   "source": [
    "def check_data(class_):\n",
    "    return [doc.test_id for doc in class_.objects]"
   ]
  },
  {
   "cell_type": "code",
   "execution_count": 2,
   "metadata": {},
   "outputs": [
    {
     "data": {
      "text/plain": [
       "MongoClient(host=['10.63.100.195:27017'], document_class=dict, tz_aware=False, connect=True, read_preference=Primary())"
      ]
     },
     "execution_count": 2,
     "metadata": {},
     "output_type": "execute_result"
    }
   ],
   "source": [
    "connect(db='test', host='10.63.100.195', port=27017, username='developer', password='Dev1234')"
   ]
  },
  {
   "cell_type": "markdown",
   "metadata": {},
   "source": [
    "### Document class definition"
   ]
  },
  {
   "cell_type": "code",
   "execution_count": 5,
   "metadata": {
    "collapsed": true
   },
   "outputs": [],
   "source": [
    "class Testcase(Document):\n",
    "    \"\"\"Example static document class\"\"\"\n",
    "    test_id = StringField(required=True, primary_key=True)\n",
    "    name = StringField(default='')\n",
    "    test_result = StringField(default='')\n",
    "    # index and primary key can not be used at same time.\n",
    "    # meta = {\n",
    "    #     'indexes': ['test_id']\n",
    "    # }\n",
    "    def clean(self):\n",
    "        \"\"\"\n",
    "        Ensure test result is not None.\n",
    "        \"\"\"\n",
    "        self.test_result = self.test_result.lower()\n",
    "        if self.test_result not in {'pass', 'fail'}:\n",
    "            self.test_result = 'NA'\n",
    "        if not self.name:\n",
    "            self.name = 'regular test'"
   ]
  },
  {
   "cell_type": "markdown",
   "metadata": {},
   "source": [
    "### Insertion"
   ]
  },
  {
   "cell_type": "code",
   "execution_count": 10,
   "metadata": {
    "collapsed": true
   },
   "outputs": [],
   "source": [
    "def insert(test_id, name='', test_result=''):\n",
    "    # get first match\n",
    "    duplicate = Testcase.objects(test_id=test_id).first()\n",
    "    new_doc = None\n",
    "    if duplicate is not None:\n",
    "        # duplicate found, perform update\n",
    "        update(duplicate, name, test_result)\n",
    "    else:\n",
    "        # create new document\n",
    "        new_doc = Testcase(test_id=test_id, name=name, test_result=test_result)\n",
    "        new_doc.save()\n",
    "    return new_doc\n",
    "\n",
    "def update(doc, name, result):\n",
    "    doc.name = name\n",
    "    doc.test_result = result\n",
    "    doc.save()"
   ]
  },
  {
   "cell_type": "markdown",
   "metadata": {},
   "source": [
    "### Deletion"
   ]
  },
  {
   "cell_type": "code",
   "execution_count": 22,
   "metadata": {
    "collapsed": true
   },
   "outputs": [],
   "source": [
    "def delete(class_, id_):\n",
    "    \"\"\"delete document of class_ with id_\"\"\"\n",
    "    doc = class_.objects(test_id=id_).first()\n",
    "    doc.delete()"
   ]
  },
  {
   "cell_type": "markdown",
   "metadata": {},
   "source": [
    "### Example: Delete by ID"
   ]
  },
  {
   "cell_type": "code",
   "execution_count": 23,
   "metadata": {
    "collapsed": true
   },
   "outputs": [],
   "source": [
    "delete(Testcase, '123')"
   ]
  },
  {
   "cell_type": "markdown",
   "metadata": {},
   "source": [
    "### Example: Insert duplicate document"
   ]
  },
  {
   "cell_type": "code",
   "execution_count": null,
   "metadata": {},
   "outputs": [],
   "source": [
    "insert('12345', 'test_z', 'pass')"
   ]
  },
  {
   "cell_type": "markdown",
   "metadata": {},
   "source": [
    "### Example: Insert new document"
   ]
  },
  {
   "cell_type": "code",
   "execution_count": 11,
   "metadata": {},
   "outputs": [
    {
     "data": {
      "text/plain": [
       "<Testcase: Testcase object>"
      ]
     },
     "execution_count": 11,
     "metadata": {},
     "output_type": "execute_result"
    }
   ],
   "source": [
    "insert('abc123')"
   ]
  },
  {
   "cell_type": "code",
   "execution_count": null,
   "metadata": {
    "collapsed": true
   },
   "outputs": [],
   "source": []
  }
 ],
 "metadata": {
  "kernelspec": {
   "display_name": "Python 3",
   "language": "python",
   "name": "python3"
  },
  "language_info": {
   "codemirror_mode": {
    "name": "ipython",
    "version": 3
   },
   "file_extension": ".py",
   "mimetype": "text/x-python",
   "name": "python",
   "nbconvert_exporter": "python",
   "pygments_lexer": "ipython3",
   "version": "3.6.1"
  }
 },
 "nbformat": 4,
 "nbformat_minor": 2
}
